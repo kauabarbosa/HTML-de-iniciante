{
  "cells": [
    {
      "cell_type": "markdown",
      "metadata": {
        "id": "view-in-github",
        "colab_type": "text"
      },
      "source": [
        "<a href=\"https://colab.research.google.com/github/kauabarbosa/HTML-de-iniciante/blob/master/Meu_Primeiro_C%C3%B3digo.ipynb\" target=\"_parent\"><img src=\"https://colab.research.google.com/assets/colab-badge.svg\" alt=\"Open In Colab\"/></a>"
      ]
    },
    {
      "cell_type": "markdown",
      "source": [
        "# Nova seção"
      ],
      "metadata": {
        "id": "AKwRTlglnnWy"
      }
    },
    {
      "cell_type": "code",
      "source": [
        "print(\"Hello world\")"
      ],
      "metadata": {
        "id": "9ZdGOEyInq0A",
        "outputId": "e45c944a-4d1c-4aca-fae4-172bc2e373ea",
        "colab": {
          "base_uri": "https://localhost:8080/"
        }
      },
      "execution_count": 1,
      "outputs": [
        {
          "output_type": "stream",
          "name": "stdout",
          "text": [
            "Hello world\n"
          ]
        }
      ]
    },
    {
      "cell_type": "code",
      "source": [
        "nome = input(\"Digite um nome: \")\n",
        "print(nome)"
      ],
      "metadata": {
        "id": "jq6MTj8wo2se",
        "outputId": "acdf5fd1-34a1-4f75-905d-0c8fb51c42a6",
        "colab": {
          "base_uri": "https://localhost:8080/"
        }
      },
      "execution_count": 2,
      "outputs": [
        {
          "output_type": "stream",
          "name": "stdout",
          "text": [
            "Digite um nome: Kauã\n",
            "Kauã\n"
          ]
        }
      ]
    },
    {
      "cell_type": "code",
      "source": [
        "print(\"olá %s, bemv-vindo a disciplina de programação. Parabéns pelo seu primeiro hello world\" %nome)"
      ],
      "metadata": {
        "id": "Zc1ooWVvpZup",
        "outputId": "a0bc38c3-b6aa-4a6e-f612-50a807d3b711",
        "colab": {
          "base_uri": "https://localhost:8080/"
        }
      },
      "execution_count": 5,
      "outputs": [
        {
          "output_type": "stream",
          "name": "stdout",
          "text": [
            "olá Kauã, bemv-vindo a disciplina de programação. Parabéns pelo seu primeiro hello world\n"
          ]
        }
      ]
    },
    {
      "cell_type": "code",
      "source": [
        "print(f\"Olá {nome}, bem-vindo a disciplina de programação. Parabéns pelo seu primeiro Hello World!\")"
      ],
      "metadata": {
        "id": "AlSr492Op0K0",
        "outputId": "0ca70909-66f2-4678-b031-b8b90fa5f58c",
        "colab": {
          "base_uri": "https://localhost:8080/"
        }
      },
      "execution_count": 4,
      "outputs": [
        {
          "output_type": "stream",
          "name": "stdout",
          "text": [
            "Olá Kauã, bem-vindo a disciplina de programação. Parabéns pelo seu primeiro Hello World!\n"
          ]
        }
      ]
    },
    {
      "cell_type": "code",
      "source": [
        "nota_1 = int(input(\"Digite a primeira nota:\"))\n",
        "nota_2 = int(input(\"Digite a segunda nota: \"))\n",
        "nota_3 = int(input(\"Digite a terceira nota: \"))\n",
        "nota_4 = int(input(\"Digite a quarta6 nota: \"))\n"
      ],
      "metadata": {
        "id": "F2JKJ7TcqXCv",
        "outputId": "bedbedc1-8615-47d1-8414-3d5a8e0d547a",
        "colab": {
          "base_uri": "https://localhost:8080/"
        }
      },
      "execution_count": 13,
      "outputs": [
        {
          "name": "stdout",
          "output_type": "stream",
          "text": [
            "Digite a primeira nota:5\n",
            "Digite a segunda nota: 6\n",
            "Digite a terceira nota: 7\n",
            "Digite a quarta6 nota: 9\n"
          ]
        }
      ]
    },
    {
      "cell_type": "code",
      "source": [
        "#Condição para aprovação do aluno\n",
        "media = ( nota_1 + nota_2 + nota_3 + nota_4)/4\n",
        "\n",
        "if media >= 6:\n",
        "  situacao = \"Aprovado\"\n",
        "else:\n",
        "  situacao = \"Reprovado\""
      ],
      "metadata": {
        "id": "9bfkhQJ2rMnO"
      },
      "execution_count": 14,
      "outputs": []
    },
    {
      "cell_type": "code",
      "source": [
        "#dadas as notas mostramos a média final e a situação do aluno.\n",
        "print(f\"A média das notas é: {media}\")\n",
        "print(f\"Situação do aluno: {situacao}\")"
      ],
      "metadata": {
        "id": "bpws6teWsKi2",
        "outputId": "4167f339-3069-4f0d-e815-df1e6a790b85",
        "colab": {
          "base_uri": "https://localhost:8080/"
        }
      },
      "execution_count": 16,
      "outputs": [
        {
          "output_type": "stream",
          "name": "stdout",
          "text": [
            "A média das notas é: 6.75\n",
            "Situação do aluno: Aprovado\n"
          ]
        }
      ]
    }
  ],
  "metadata": {
    "colab": {
      "name": "Conheça o Colab",
      "toc_visible": true,
      "provenance": [],
      "include_colab_link": true
    },
    "kernelspec": {
      "display_name": "Python 3",
      "name": "python3"
    }
  },
  "nbformat": 4,
  "nbformat_minor": 0
}